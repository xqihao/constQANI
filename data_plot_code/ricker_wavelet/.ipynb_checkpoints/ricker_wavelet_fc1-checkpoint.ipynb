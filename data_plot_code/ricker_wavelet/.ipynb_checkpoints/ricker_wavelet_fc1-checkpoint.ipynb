{
 "cells": [
  {
   "cell_type": "markdown",
   "metadata": {},
   "source": [
    "# Ricker wavelet for earthquake\n",
    "\n",
    "### Qi Hao, Mar. 27, 2021"
   ]
  },
  {
   "cell_type": "code",
   "execution_count": 17,
   "metadata": {},
   "outputs": [],
   "source": [
    "import numpy as np\n",
    "import pandas as pd\n",
    "import matplotlib.pyplot as plt"
   ]
  },
  {
   "cell_type": "code",
   "execution_count": 18,
   "metadata": {},
   "outputs": [],
   "source": [
    "#!/usr/bin/env python3\n",
    "# -*- coding: utf-8 -*-\n",
    "\"\"\"\n",
    "Created on Wed Nov 27 15:00:48 2019\n",
    "\n",
    "The point source solution of viscoacoustic wave equation.\n",
    "\n",
    "@author: sursf\n",
    "\"\"\"\n",
    "\n",
    "import numpy as np\n",
    "\n",
    "import matplotlib.pyplot as plt\n",
    "\n",
    "\n",
    "def ricker_wavelet(fm, t):\n",
    "    t0 = 1. / fm\n",
    "    \n",
    "    tmp = np.pi**2 * fm**2 * (t-t0)**2\n",
    "    \n",
    "    ft = (1. - 2. * tmp) * np.exp(-tmp)\n",
    "    \n",
    "    tmp0 = np.pi**2 * fm**2 * (0.-t0)**2\n",
    "    ft0  = (1. - 2. * tmp0) * np.exp(-tmp0)\n",
    "    \n",
    "    ft = ft - ft0\n",
    "    \n",
    "    return ft\n",
    "\n",
    "\n",
    "\n",
    "def fourier_time(tdata):\n",
    "    \"\"\" Fourier transform over time. See equation 1 in Hao and Alkhalifah (2019). \n",
    "    In fdata_normal, the zero-frequency data is at the center of the array. \"\"\"\n",
    "    \n",
    "    n = len(tdata)\n",
    "    \n",
    "    nshift = int(n/2 -1)\n",
    "    \n",
    "    fdata = np.fft.ifft(tdata)\n",
    "    \n",
    "    fdata_normal = np.roll(fdata, nshift)\n",
    "       \n",
    "    return fdata_normal\n",
    "\n",
    "\n",
    "\n",
    "def invfourier_freq(fdata_normal):\n",
    "    \"\"\" Inverse fourier transform over freq. See equation 2 in Hao and Alkhalifah (2019). \n",
    "    In fdata_normal, the zero-frequency data is at the center of the array.\n",
    "    In tdata, the zero-time data is tdata[0]. \"\"\"\n",
    "    \n",
    "    n = len(fdata_normal)\n",
    "    \n",
    "    nshift = int(n/2 - 1)\n",
    "    \n",
    "    fdata = np.roll(fdata_normal, -nshift)\n",
    "    \n",
    "    tdata = np.fft.fft(fdata)\n",
    "    \n",
    "    return tdata"
   ]
  },
  {
   "cell_type": "markdown",
   "metadata": {},
   "source": [
    "## Source wavelet"
   ]
  },
  {
   "cell_type": "code",
   "execution_count": 19,
   "metadata": {},
   "outputs": [
    {
     "name": "stdout",
     "output_type": "stream",
     "text": [
      "fmax = 85.1 Hz\n",
      "df =0.0199953007518797 Hz\n"
     ]
    }
   ],
   "source": [
    "# ### dominant frequency of the source wavelet\n",
    "fc = 1\n",
    "\n",
    "#### the number of the sampling points must be even \n",
    "n = 4256 * 1\n",
    "\n",
    "maxt = 50\n",
    "\n",
    "dt = (maxt - 0.) / (n - 1)\n",
    "\n",
    "omegamax = np.pi / dt\n",
    "\n",
    "df = 1. / (n*dt)\n",
    "\n",
    "print(\"fmax = %s Hz\" % str(1/dt))\n",
    "print(\"df =%s Hz\" % str(df))\n",
    "\n",
    "t_all = np.arange(0, n) * dt\n",
    "\n",
    "tdata = ricker_wavelet(fc, t_all)\n",
    "\n",
    "###### fourier transform ###########\n",
    "f_all     = (np.arange(0, n) + 1. - n/2.) * df\n",
    "omega_all = 2.* np.pi * f_all\n",
    "\n",
    "fdata_normal = fourier_time(tdata)\n",
    "\n",
    "### remove the alias at zero frequency\n",
    "### note that after the fourier transform, the data at zero frequency is nonzero and quite large. \n",
    "### We need to remove this alias, because the wave amplitude at zero frequency must be zero for a real signal.\n",
    "index_f0 = int(n/2 -1)\n",
    "fdata_normal[index_f0] = 0"
   ]
  },
  {
   "cell_type": "code",
   "execution_count": 20,
   "metadata": {},
   "outputs": [
    {
     "data": {
      "image/png": "[encoded data removed]",
      "text/plain": [
       "<Figure size 288x180 with 1 Axes>"
      ]
     },
     "metadata": {
      "needs_background": "light"
     },
     "output_type": "display_data"
    },
    {
     "data": {
      "image/png": "[encoded data removed]",
      "text/plain": [
       "<Figure size 288x169.2 with 1 Axes>"
      ]
     },
     "metadata": {
      "needs_background": "light"
     },
     "output_type": "display_data"
    }
   ],
   "source": [
    "################### Plot source wavelet  #####################\n",
    "fig = plt.figure(figsize=(4, 2.5))\n",
    "ax = fig.add_subplot(1, 1, 1)\n",
    "\n",
    "# fig.subplots_adjust(left=.18, bottom=.16, right=.95, top=.97)\n",
    "\n",
    "plt.plot(t_all, tdata, color='k', lw=2, ls='solid')\n",
    "\n",
    "plt.grid(True)\n",
    "\n",
    "plt.xlim(0, 2.5)\n",
    "\n",
    "plt.xlabel(\"t (s)\")\n",
    "plt.ylabel(\"$F$\")\n",
    "\n",
    "font_size = 12\n",
    "\n",
    "xlabel = ax.get_xlabel()\n",
    "ylabel = ax.get_ylabel()\n",
    "\n",
    "ax.set_xlabel(xlabel, size=font_size)\n",
    "ax.set_ylabel(ylabel, size=font_size)\n",
    "\n",
    "ax.tick_params(axis='x', labelsize=font_size)\n",
    "ax.tick_params(axis='y', labelsize=font_size)\n",
    "\n",
    "plt.show()\n",
    "\n",
    "\n",
    "fname1 = \"./figs/source_wavelet_fc%s.pdf\" %str(fc)\n",
    "\n",
    "fig.savefig(fname1, bbox_inches=\"tight\")\n",
    "\n",
    "################### Plot source wavelet spectrum #####################\n",
    "fig = plt.figure(figsize=(4, 2.35))\n",
    "ax = fig.add_subplot(1, 1, 1)\n",
    "\n",
    "# fig.subplots_adjust(left=.18, bottom=.16, right=.95, top=.97)\n",
    "\n",
    "plt.plot(f_all, np.abs(fdata_normal), color='k', lw=2, ls='solid')\n",
    "\n",
    "plt.grid(True)\n",
    "\n",
    "plt.xlim(0.01, 3)\n",
    "\n",
    "# ## get xticks and add 0 into x-axis ticks.\n",
    "# xticks0 = ax.get_xticks()\n",
    "# xticks1 = np.insert(xticks0,0,0)  ###insert the value 0 to the front of array xticks\n",
    "# ax.set_xticks(xticks1)\n",
    "\n",
    "plt.xlabel(\"f (Hz)\")\n",
    "plt.ylabel(r\"$|\\hat{F}|$\")\n",
    "\n",
    "plt.ticklabel_format(axis=\"y\", style=\"sci\", scilimits=(0,0))\n",
    "\n",
    "# ax.set_xscale('log')\n",
    "\n",
    "font_size = 12\n",
    "\n",
    "xlabel = ax.get_xlabel()\n",
    "ylabel = ax.get_ylabel()\n",
    "\n",
    "ax.set_xlabel(xlabel, size=font_size)\n",
    "ax.set_ylabel(ylabel, size=font_size)\n",
    "\n",
    "ax.tick_params(axis='x', labelsize=font_size)\n",
    "ax.tick_params(axis='y', labelsize=font_size)\n",
    "\n",
    "plt.show()\n",
    "\n",
    "fname2 = \"./figs/source_spectrum_fc%s.pdf\" %str(fc)\n",
    "\n",
    "fig.savefig(fname2, bbox_inches=\"tight\")"
   ]
  },
  {
   "cell_type": "code",
   "execution_count": null,
   "metadata": {},
   "outputs": [],
   "source": []
  }
 ],
 "metadata": {
  "kernelspec": {
   "display_name": "Python 3",
   "language": "python",
   "name": "python3"
  },
  "language_info": {
   "codemirror_mode": {
    "name": "ipython",
    "version": 3
   },
   "file_extension": ".py",
   "mimetype": "text/x-python",
   "name": "python",
   "nbconvert_exporter": "python",
   "pygments_lexer": "ipython3",
   "version": "3.7.3"
  }
 },
 "nbformat": 4,
 "nbformat_minor": 2
}
